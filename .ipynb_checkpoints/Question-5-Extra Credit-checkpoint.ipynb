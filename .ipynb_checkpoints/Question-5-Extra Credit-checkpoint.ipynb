{
 "cells": [
  {
   "cell_type": "code",
   "execution_count": 3,
   "metadata": {},
   "outputs": [
    {
     "name": "stdout",
     "output_type": "stream",
     "text": [
      "+--------------------+--------------------+\n",
      "|                name|             content|\n",
      "+--------------------+--------------------+\n",
      "|file:/C:/Users/va...|The American Matr...|\n",
      "|file:/C:/Users/va...|The American Woma...|\n",
      "|file:/C:/Users/va...|Manual For Army C...|\n",
      "|file:/C:/Users/va...|\"Aunt Babette's\" ...|\n",
      "|file:/C:/Users/va...|THE \r\n",
      "\r\n",
      "IDEAL BAR...|\n",
      "|file:/C:/Users/va...|A bookplate illus...|\n",
      "|file:/C:/Users/va...|THE BLUE GRASS \r\n",
      "...|\n",
      "|file:/C:/Users/va...|THE  BOSTON COOKI...|\n",
      "|file:/C:/Users/va...|Breakfast, Lunche...|\n",
      "|file:/C:/Users/va...|Practical  Housek...|\n",
      "|file:/C:/Users/va...|Cooking in old Cr...|\n",
      "|file:/C:/Users/va...|Dr. Chase's Recip...|\n",
      "|file:/C:/Users/va...|Chinese-Japanese ...|\n",
      "|file:/C:/Users/va...|Chocolate and Coc...|\n",
      "|file:/C:/Users/va...|Common Sense in T...|\n",
      "|file:/C:/Users/va...|The Complete Conf...|\n",
      "|file:/C:/Users/va...|The Cook's Own Bo...|\n",
      "|file:/C:/Users/va...|La Cuisine Creole...|\n",
      "|file:/C:/Users/va...|Directions for Co...|\n",
      "|file:/C:/Users/va...|Dishes &amp; Beve...|\n",
      "+--------------------+--------------------+\n",
      "only showing top 20 rows\n",
      "\n"
     ]
    }
   ],
   "source": [
    "# References\n",
    "# http://mccormickml.com/2015/06/12/minhash-tutorial-with-python-code/\n",
    "# https://mattilyra.github.io/2017/05/23/document-deduplication-with-lsh.html\n",
    "\n",
    "import findspark\n",
    "import os\n",
    "os.environ['PATH'].split(';')\n",
    "findspark.init()\n",
    "from pyspark.ml.linalg import Vectors\n",
    "from pyspark.sql.functions import col\n",
    "from pyspark.sql import SparkSession\n",
    "from pyspark.sql.types import *\n",
    "from pyspark.sql import *\n",
    "from pyspark import SparkContext, SparkConf\n",
    "from pyspark.sql.functions import udf\n",
    "\n",
    "spark = SparkSession.builder.appName(\"midterm\").getOrCreate()\n",
    "\n",
    "spark.sparkContext.setSystemProperty('spark.executor.memory', '8g')\n",
    "\n",
    "data = spark.sparkContext.wholeTextFiles(\"cookbook_text\")\n",
    "data_new = data.map(lambda x: Row(name=x[0],content=x[1].strip()))\n",
    "schemaString = \"name content\"\n",
    "fields = [StructField(field_name, StringType(), True) for field_name in schemaString.split()]\n",
    "schema = StructType(fields)\n",
    "df1 = spark.createDataFrame(data_new, schema)\n",
    "df1.show()"
   ]
  },
  {
   "cell_type": "code",
   "execution_count": 4,
   "metadata": {},
   "outputs": [
    {
     "name": "stdout",
     "output_type": "stream",
     "text": [
      "+--------------------+--------------------+\n",
      "|                name|            shingles|\n",
      "+--------------------+--------------------+\n",
      "|file:/C:/Users/va...|[ Or, ,  befo, un...|\n",
      "|file:/C:/Users/va...|[ted m, k, bo, ct...|\n",
      "|file:/C:/Users/va...|[ted m,  Litt, rt...|\n",
      "|file:/C:/Users/va...|[ted m, Glitt, gn...|\n",
      "|file:/C:/Users/va...|[ors t, msen , te...|\n",
      "|file:/C:/Users/va...|[ted m,  Litt, s ...|\n",
      "|file:/C:/Users/va...|[ Litt, ets c, \n",
      "T...|\n",
      "|file:/C:/Users/va...|[ted m, k, bo, us...|\n",
      "|file:/C:/Users/va...|[ted m, ct ev, y,...|\n",
      "|file:/C:/Users/va...|[k, bo, ted m, ct...|\n",
      "|file:/C:/Users/va...|[k, bo, vin d, RN...|\n",
      "|file:/C:/Users/va...|[ted m, k, bo, gn...|\n",
      "|file:/C:/Users/va...|[led  , If to, hi...|\n",
      "|file:/C:/Users/va...|[ted m,  MILL,  L...|\n",
      "|file:/C:/Users/va...|[ted m, k, bo, y,...|\n",
      "|file:/C:/Users/va...|[ted m,  Litt, y ...|\n",
      "|file:/C:/Users/va...|[ted m, k, bo, et...|\n",
      "|file:/C:/Users/va...|[ Litt, S-- U, y ...|\n",
      "|file:/C:/Users/va...|[ted m,  Litt, y ...|\n",
      "|file:/C:/Users/va...|[ted m,  Litt, Be...|\n",
      "+--------------------+--------------------+\n",
      "only showing top 20 rows\n",
      "\n"
     ]
    }
   ],
   "source": [
    "def get_shingles(text, char_ngram=5):\n",
    "    \"\"\"Create a set of overlapping character n-grams.\n",
    "    \n",
    "    Only full length character n-grams are created, that is the first character\n",
    "    n-gram is the first `char_ngram` characters from text, no padding is applied.\n",
    "\n",
    "    Each n-gram is spaced exactly one character apart.\n",
    "\n",
    "    Parameters\n",
    "    ----------\n",
    "\n",
    "    text: str\n",
    "        The string from which the character n-grams are created.\n",
    "\n",
    "    char_ngram: int (default 5)\n",
    "        Length of each character n-gram.\n",
    "    \"\"\"\n",
    "    return list(set((text[head:head + char_ngram]) for head in range(0, len(text) - char_ngram)))\n",
    "\n",
    "myudf = lambda y: get_shingles(y)\n",
    "myUDF = udf(myudf,ArrayType(StringType()))\n",
    "newDF = df1.withColumn(\"shingles\", myUDF(df1.content))\n",
    "newDF = newDF.drop(\"content\")\n",
    "newDF.show()"
   ]
  },
  {
   "cell_type": "code",
   "execution_count": 5,
   "metadata": {},
   "outputs": [
    {
     "name": "stdout",
     "output_type": "stream",
     "text": [
      "Showing files with their hashes, the ones with same hash value have almost similar content\n",
      "+--------------------+--------------------+--------------------+---------------+\n",
      "|                name|            shingles|            features|         hashes|\n",
      "+--------------------+--------------------+--------------------+---------------+\n",
      "|file:/C:/Users/va...|[ Or, ,  befo, un...|(65009,[0,1,2,3,4...|[[2.6514721E7]]|\n",
      "|file:/C:/Users/va...|[ted m, k, bo, ct...|(65009,[0,1,2,3,4...|    [[32321.0]]|\n",
      "|file:/C:/Users/va...|[ted m,  Litt, rt...|(65009,[0,1,2,3,4...|    [[32321.0]]|\n",
      "|file:/C:/Users/va...|[ted m, Glitt, gn...|(65009,[0,1,2,3,4...|    [[32321.0]]|\n",
      "|file:/C:/Users/va...|[ors t, msen , te...|(65009,[0,1,2,3,4...|   [[482803.0]]|\n",
      "|file:/C:/Users/va...|[ted m,  Litt, s ...|(65009,[0,1,2,3,4...|    [[32321.0]]|\n",
      "|file:/C:/Users/va...|[ Litt, ets c, \n",
      "T...|(65009,[0,1,2,3,4...|    [[72152.0]]|\n",
      "|file:/C:/Users/va...|[ted m, k, bo, us...|(65009,[0,1,2,3,4...|    [[32321.0]]|\n",
      "|file:/C:/Users/va...|[ted m, ct ev, y,...|(65009,[0,1,2,3,4...|   [[106485.0]]|\n",
      "|file:/C:/Users/va...|[k, bo, ted m, ct...|(65009,[0,1,2,3,4...|    [[32321.0]]|\n",
      "|file:/C:/Users/va...|[k, bo, vin d, RN...|(65009,[0,1,2,3,4...|    [[32321.0]]|\n",
      "|file:/C:/Users/va...|[ted m, k, bo, gn...|(65009,[0,1,2,3,4...|   [[106485.0]]|\n",
      "|file:/C:/Users/va...|[led  , If to, hi...|(65009,[0,1,2,3,4...|   [[482803.0]]|\n",
      "|file:/C:/Users/va...|[ted m,  MILL,  L...|(65009,[0,1,2,3,4...|    [[32321.0]]|\n",
      "|file:/C:/Users/va...|[ted m, k, bo, y,...|(65009,[0,1,2,3,4...|    [[32321.0]]|\n",
      "|file:/C:/Users/va...|[ted m,  Litt, y ...|(65009,[0,1,2,3,4...|    [[32321.0]]|\n",
      "|file:/C:/Users/va...|[ted m, k, bo, et...|(65009,[0,1,2,3,4...|    [[32321.0]]|\n",
      "|file:/C:/Users/va...|[ Litt, S-- U, y ...|(65009,[0,1,2,3,4...|    [[32321.0]]|\n",
      "|file:/C:/Users/va...|[ted m,  Litt, y ...|(65009,[0,1,2,3,4...|    [[32321.0]]|\n",
      "|file:/C:/Users/va...|[ted m,  Litt, Be...|(65009,[0,1,2,3,4...|    [[32321.0]]|\n",
      "+--------------------+--------------------+--------------------+---------------+\n",
      "only showing top 20 rows\n",
      "\n"
     ]
    }
   ],
   "source": [
    "from pyspark.ml.feature import CountVectorizer,MinHashLSH\n",
    "cv = CountVectorizer(inputCol=\"shingles\", outputCol=\"features\", vocabSize=100000, minDF=10.0)\n",
    "model = cv.fit(newDF)\n",
    "result = model.transform(newDF)\n",
    "mh = MinHashLSH(inputCol=\"features\", outputCol=\"hashes\", seed=12345)\n",
    "model = mh.fit(result)\n",
    "resultDF = model.transform(result)\n",
    "print(\"Showing files with their hashes, the ones with same hash value have almost similar content\")\n",
    "resultDF.show()"
   ]
  },
  {
   "cell_type": "code",
   "execution_count": null,
   "metadata": {},
   "outputs": [],
   "source": []
  },
  {
   "cell_type": "code",
   "execution_count": null,
   "metadata": {},
   "outputs": [],
   "source": []
  }
 ],
 "metadata": {
  "kernelspec": {
   "display_name": "Python 3",
   "language": "python",
   "name": "python3"
  },
  "language_info": {
   "codemirror_mode": {
    "name": "ipython",
    "version": 3
   },
   "file_extension": ".py",
   "mimetype": "text/x-python",
   "name": "python",
   "nbconvert_exporter": "python",
   "pygments_lexer": "ipython3",
   "version": "3.7.4"
  }
 },
 "nbformat": 4,
 "nbformat_minor": 2
}
