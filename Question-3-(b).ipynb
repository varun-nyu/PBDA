{
 "cells": [
  {
   "cell_type": "code",
   "execution_count": 21,
   "metadata": {},
   "outputs": [
    {
     "name": "stdout",
     "output_type": "stream",
     "text": [
      "['annual_failure_rate']\n",
      "[[0.45804560998893407], [4.512597491002092], [0.03619125807319973]]\n"
     ]
    }
   ],
   "source": [
    "import findspark\n",
    "import os\n",
    "os.environ['PATH'].split(';')\n",
    "\n",
    "\n",
    "findspark.init()\n",
    "from pyspark.sql import SparkSession\n",
    "from pyspark.sql.types import StructType, StructField, StringType, IntegerType\n",
    "import pyspark.sql.functions as F\n",
    "from pyspark.ml.feature import VectorAssembler\n",
    "from pyspark.ml.linalg import Vectors\n",
    "from pyspark.ml.feature import StandardScaler\n",
    "from pyspark.ml.clustering import KMeans\n",
    "\n",
    "\n",
    "spark = SparkSession.builder.appName(\"midterm\").getOrCreate()\n",
    "\n",
    "df = spark.read .format(\"csv\").option(\"header\", \"true\").load(\"drive_stats_2019_Q1/*.csv\")\n",
    "\n",
    "drive_days = df.select('model').groupBy('model').count().withColumnRenamed('count', 'drive_days')\n",
    "\n",
    "failures = df.select('model').filter(df.failure == 1).groupBy('model').count().withColumnRenamed('count', 'failures')\n",
    "\n",
    "model_count = df.select('model').filter(df.date=='2019-03-31').groupBy('model').count().alias(\"count\")\n",
    "\n",
    "result = drive_days.join(failures, [\"model\"]).join(model_count, [\"model\"])\n",
    "result = result.withColumn(\"annual_failure_rate\", 100.0 * (1.0 * F.col(\"failures\")) / ( (F.col(\"drive_days\") / 365.0)))\n",
    "df_temp = result.select(\"annual_failure_rate\")\n",
    "print(df_temp.columns)\n",
    "\n",
    "feat_cols = [ 'annual_failure_rate']\n",
    "\n",
    "for column in feat_cols:\n",
    "    df_temp = df_temp.withColumn(column,df_temp[column].cast(IntegerType()))\n",
    "\n",
    "# df_temp.show(100)\n",
    "df_temp.dropna()\n",
    "vec_assembler = VectorAssembler(inputCols = feat_cols, outputCol='features')\n",
    "\n",
    "final_data = vec_assembler.setHandleInvalid(\"skip\").transform(df_temp)\n",
    "scaler = StandardScaler(inputCol=\"features\", outputCol=\"scaledFeatures\", withStd=True, withMean=False)\n",
    "scalerModel = scaler.fit(final_data)\n",
    "cluster_final_data = scalerModel.transform(final_data)\n",
    "kmeans2 = KMeans(featuresCol='scaledFeatures',k=3)\n",
    "model_k2 = kmeans2.fit(cluster_final_data)\n",
    "\n",
    "centers = model_k2.clusterCenters()\n",
    "centers = [center.tolist() for center in centers]\n",
    "print(centers)"
   ]
  },
  {
   "cell_type": "code",
   "execution_count": 28,
   "metadata": {},
   "outputs": [
    {
     "name": "stdout",
     "output_type": "stream",
     "text": [
      "+-------------------+----------+------------+----+\n",
      "|annual_failure_rate|prediction|    distance|rank|\n",
      "+-------------------+----------+------------+----+\n",
      "|                133|         1|         0.0|   1|\n",
      "|                  3|         2| 0.065596655|   1|\n",
      "|                  3|         2| 0.065596655|   1|\n",
      "|                  0|         2|  0.03619126|   3|\n",
      "|                  0|         2|  0.03619126|   3|\n",
      "|                  0|         2|  0.03619126|   3|\n",
      "|                  0|         2|  0.03619126|   3|\n",
      "|                  0|         2|  0.03619126|   3|\n",
      "|                  2|         2|  0.03166735|   8|\n",
      "|                  2|         2|  0.03166735|   8|\n",
      "|                  1|         2|0.0022619537|  10|\n",
      "|                  1|         2|0.0022619537|  10|\n",
      "|                  1|         2|0.0022619537|  10|\n",
      "|                  1|         2|0.0022619537|  10|\n",
      "|                  1|         2|0.0022619537|  10|\n",
      "|                  1|         2|0.0022619537|  10|\n",
      "|                 22|         0|   0.2883991|   1|\n",
      "|                  8|         0|  0.18661118|   2|\n",
      "|                 10|         0|  0.11875257|   3|\n",
      "|                 14|         0| 0.016964652|   4|\n",
      "+-------------------+----------+------------+----+\n",
      "\n"
     ]
    }
   ],
   "source": [
    "from pyspark.sql.functions import udf\n",
    "from pyspark.sql.types import FloatType\n",
    "from scipy.spatial import distance\n",
    "\n",
    "df_preds2 = model_k2.transform(cluster_final_data).orderBy(\"prediction\")\n",
    "\n",
    "distance_udf = F.udf(lambda x,y: float(distance.euclidean(x, centers[y])), FloatType())\n",
    "df_preds2 = df_preds2.withColumn('distance', distance_udf(F.col('scaledFeatures'),F.col('prediction')))\n",
    "df_preds2 = df_preds2.orderBy(\"prediction\").orderBy(F.desc(\"distance\"))\n",
    "# df_preds2.show()\n",
    "# q = df_preds2.approxQuantile(\"distance\", [0.5], 1)\n",
    "# q\n",
    "\n",
    "from pyspark.sql.window import Window\n",
    "from pyspark.sql.functions import rank, col\n",
    "\n",
    "window = Window.partitionBy(df_preds2['prediction']).orderBy(df_preds2['distance'].desc())\n",
    "threshold = 10\n",
    "df_preds2.select('annual_failure_rate','prediction','distance', rank().over(window).alias('rank')) .filter(F.col('rank') <= threshold) .show(50) "
   ]
  },
  {
   "cell_type": "code",
   "execution_count": null,
   "metadata": {},
   "outputs": [],
   "source": []
  }
 ],
 "metadata": {
  "kernelspec": {
   "display_name": "Python 3",
   "language": "python",
   "name": "python3"
  },
  "language_info": {
   "codemirror_mode": {
    "name": "ipython",
    "version": 3
   },
   "file_extension": ".py",
   "mimetype": "text/x-python",
   "name": "python",
   "nbconvert_exporter": "python",
   "pygments_lexer": "ipython3",
   "version": "3.7.4"
  }
 },
 "nbformat": 4,
 "nbformat_minor": 2
}
